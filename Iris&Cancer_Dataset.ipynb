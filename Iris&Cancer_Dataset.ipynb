{
  "nbformat": 4,
  "nbformat_minor": 0,
  "metadata": {
    "colab": {
      "name": "Untitled2.ipynb",
      "version": "0.3.2",
      "provenance": [],
      "collapsed_sections": [],
      "include_colab_link": true
    },
    "kernelspec": {
      "name": "python3",
      "display_name": "Python 3"
    }
  },
  "cells": [
    {
      "cell_type": "markdown",
      "metadata": {
        "id": "view-in-github",
        "colab_type": "text"
      },
      "source": [
        "<a href=\"https://colab.research.google.com/github/Akshat111999/MLsummer19/blob/master/Iris%26Cancer%20Dataset.ipynb\" target=\"_parent\"><img src=\"https://colab.research.google.com/assets/colab-badge.svg\" alt=\"Open In Colab\"/></a>"
      ]
    },
    {
      "cell_type": "code",
      "metadata": {
        "id": "LCnix-9QuHDC",
        "colab_type": "code",
        "colab": {}
      },
      "source": [
        "# loading iris data set\n",
        "from sklearn.datasets import load_iris\n",
        "# loading cancer data set\n",
        "from sklearn.datasets import load_breast_cancer\n",
        "#for calculating accuracy score\n",
        "from sklearn.metrics import accuracy_score  "
      ],
      "execution_count": 0,
      "outputs": []
    },
    {
      "cell_type": "markdown",
      "metadata": {
        "id": "K2Yr3EeMy4jt",
        "colab_type": "text"
      },
      "source": [
        "## IRIS dataset"
      ]
    },
    {
      "cell_type": "code",
      "metadata": {
        "id": "_8r_2fJpuk2u",
        "colab_type": "code",
        "colab": {}
      },
      "source": [
        "iris_data=load_iris()"
      ],
      "execution_count": 0,
      "outputs": []
    },
    {
      "cell_type": "code",
      "metadata": {
        "id": "d_JEme8Fu9je",
        "colab_type": "code",
        "colab": {
          "base_uri": "https://localhost:8080/",
          "height": 36
        },
        "outputId": "8b18a6ec-72a6-4eeb-b19b-e4be19c15cda"
      },
      "source": [
        "dir(iris_data)"
      ],
      "execution_count": 8,
      "outputs": [
        {
          "output_type": "execute_result",
          "data": {
            "text/plain": [
              "['DESCR', 'data', 'feature_names', 'filename', 'target', 'target_names']"
            ]
          },
          "metadata": {
            "tags": []
          },
          "execution_count": 8
        }
      ]
    },
    {
      "cell_type": "code",
      "metadata": {
        "id": "iPJKKawHuqxQ",
        "colab_type": "code",
        "colab": {}
      },
      "source": [
        "iris_features=iris_data.data"
      ],
      "execution_count": 0,
      "outputs": []
    },
    {
      "cell_type": "code",
      "metadata": {
        "id": "vko7WMHTu2Z9",
        "colab_type": "code",
        "colab": {}
      },
      "source": [
        "iris_label=iris_data.target"
      ],
      "execution_count": 0,
      "outputs": []
    },
    {
      "cell_type": "code",
      "metadata": {
        "id": "dVcNod_9vena",
        "colab_type": "code",
        "colab": {}
      },
      "source": [
        "# separating data into training and testing\n",
        "from sklearn.model_selection import train_test_split  "
      ],
      "execution_count": 0,
      "outputs": []
    },
    {
      "cell_type": "code",
      "metadata": {
        "id": "1NfuGbV0vzD6",
        "colab_type": "code",
        "colab": {}
      },
      "source": [
        "#seperating data\n",
        "train_data,test_data,label_train,label_test = train_test_split(iris_features,iris_label,test_size=0.2)  # 80% training data\n"
      ],
      "execution_count": 0,
      "outputs": []
    },
    {
      "cell_type": "markdown",
      "metadata": {
        "id": "At9TMJoI2cPe",
        "colab_type": "text"
      },
      "source": [
        "KNN\n"
      ]
    },
    {
      "cell_type": "code",
      "metadata": {
        "id": "7e77sr9Uv3rS",
        "colab_type": "code",
        "colab": {}
      },
      "source": [
        "# importing knn classifier\n",
        "from sklearn.neighbors import KNeighborsClassifier"
      ],
      "execution_count": 0,
      "outputs": []
    },
    {
      "cell_type": "code",
      "metadata": {
        "id": "TNRQ1ugnv-lt",
        "colab_type": "code",
        "colab": {}
      },
      "source": [
        "#calling KNN\n",
        "iris_kclf=KNeighborsClassifier()"
      ],
      "execution_count": 0,
      "outputs": []
    },
    {
      "cell_type": "code",
      "metadata": {
        "id": "j5miNLivwPDw",
        "colab_type": "code",
        "colab": {}
      },
      "source": [
        "#training the model\n",
        "iris_ktraining=iris_kclf.fit(train_data,label_train)\n"
      ],
      "execution_count": 0,
      "outputs": []
    },
    {
      "cell_type": "code",
      "metadata": {
        "id": "CG1wMrwfwovX",
        "colab_type": "code",
        "colab": {}
      },
      "source": [
        "#prediction\n",
        "iris_kpredict= iris_ktraining.predict(test_data)"
      ],
      "execution_count": 0,
      "outputs": []
    },
    {
      "cell_type": "code",
      "metadata": {
        "id": "lWQPSMCNw7Le",
        "colab_type": "code",
        "colab": {
          "base_uri": "https://localhost:8080/",
          "height": 54
        },
        "outputId": "391a4d4a-593c-4eae-af92-ea03dba351b6"
      },
      "source": [
        "iris_kpredict"
      ],
      "execution_count": 19,
      "outputs": [
        {
          "output_type": "execute_result",
          "data": {
            "text/plain": [
              "array([2, 2, 0, 0, 0, 2, 2, 1, 1, 0, 2, 0, 2, 2, 1, 0, 1, 0, 2, 1, 1, 0,\n",
              "       0, 2, 0, 0, 2, 0, 1, 0])"
            ]
          },
          "metadata": {
            "tags": []
          },
          "execution_count": 19
        }
      ]
    },
    {
      "cell_type": "code",
      "metadata": {
        "id": "WfC2zKVnw-F2",
        "colab_type": "code",
        "colab": {
          "base_uri": "https://localhost:8080/",
          "height": 54
        },
        "outputId": "78f303b3-77f5-4bb0-9927-17d5f97e68bb"
      },
      "source": [
        "label_test"
      ],
      "execution_count": 20,
      "outputs": [
        {
          "output_type": "execute_result",
          "data": {
            "text/plain": [
              "array([2, 2, 0, 0, 0, 2, 2, 1, 1, 0, 2, 0, 1, 2, 1, 0, 1, 0, 2, 1, 1, 0,\n",
              "       0, 2, 0, 0, 2, 0, 1, 0])"
            ]
          },
          "metadata": {
            "tags": []
          },
          "execution_count": 20
        }
      ]
    },
    {
      "cell_type": "markdown",
      "metadata": {
        "id": "OaD9taNB20z2",
        "colab_type": "text"
      },
      "source": [
        "Accuracy"
      ]
    },
    {
      "cell_type": "code",
      "metadata": {
        "id": "Z_IWRhP1xEon",
        "colab_type": "code",
        "colab": {}
      },
      "source": [
        "#checking accuracy\n",
        "iris_kaccr=int(accuracy_score(label_test,iris_kpredict)*100)"
      ],
      "execution_count": 0,
      "outputs": []
    },
    {
      "cell_type": "code",
      "metadata": {
        "id": "rrBDonOKxf-8",
        "colab_type": "code",
        "colab": {
          "base_uri": "https://localhost:8080/",
          "height": 36
        },
        "outputId": "01957476-1105-44e4-8d9a-3c75dcf0ad48"
      },
      "source": [
        "iris_kaccr"
      ],
      "execution_count": 22,
      "outputs": [
        {
          "output_type": "execute_result",
          "data": {
            "text/plain": [
              "96"
            ]
          },
          "metadata": {
            "tags": []
          },
          "execution_count": 22
        }
      ]
    },
    {
      "cell_type": "markdown",
      "metadata": {
        "id": "WmQlXzh32fKq",
        "colab_type": "text"
      },
      "source": [
        "Decision Tree Classifier"
      ]
    },
    {
      "cell_type": "code",
      "metadata": {
        "id": "lmDIOMZoxh2N",
        "colab_type": "code",
        "colab": {}
      },
      "source": [
        "from sklearn.tree import DecisionTreeClassifier"
      ],
      "execution_count": 0,
      "outputs": []
    },
    {
      "cell_type": "code",
      "metadata": {
        "id": "6H6RKjCxxv2k",
        "colab_type": "code",
        "colab": {}
      },
      "source": [
        "#calling decision tree classifier\n",
        "iris_dclf=DecisionTreeClassifier()"
      ],
      "execution_count": 0,
      "outputs": []
    },
    {
      "cell_type": "code",
      "metadata": {
        "id": "Q1-cwhN_x3NC",
        "colab_type": "code",
        "colab": {}
      },
      "source": [
        "# training the model\n",
        "iris_dtraining=iris_dclf.fit(train_data,label_train)"
      ],
      "execution_count": 0,
      "outputs": []
    },
    {
      "cell_type": "code",
      "metadata": {
        "id": "WO4b9LexyTIQ",
        "colab_type": "code",
        "colab": {}
      },
      "source": [
        "#prediction\n",
        "iris_dpredict= iris_dtraining.predict(test_data)"
      ],
      "execution_count": 0,
      "outputs": []
    },
    {
      "cell_type": "code",
      "metadata": {
        "id": "uRgicfu9ybi4",
        "colab_type": "code",
        "colab": {
          "base_uri": "https://localhost:8080/",
          "height": 54
        },
        "outputId": "7fdd2456-da0a-4260-cbea-f6388c6498fe"
      },
      "source": [
        "iris_dpredict"
      ],
      "execution_count": 27,
      "outputs": [
        {
          "output_type": "execute_result",
          "data": {
            "text/plain": [
              "array([1, 2, 0, 0, 0, 1, 2, 1, 1, 0, 2, 0, 2, 2, 1, 0, 1, 0, 2, 1, 1, 0,\n",
              "       0, 2, 0, 0, 2, 0, 1, 0])"
            ]
          },
          "metadata": {
            "tags": []
          },
          "execution_count": 27
        }
      ]
    },
    {
      "cell_type": "code",
      "metadata": {
        "id": "RRO0lnRzydaM",
        "colab_type": "code",
        "colab": {
          "base_uri": "https://localhost:8080/",
          "height": 54
        },
        "outputId": "c145e9a0-ee69-4eb1-8b5a-e6f6ee3c2536"
      },
      "source": [
        "label_test"
      ],
      "execution_count": 28,
      "outputs": [
        {
          "output_type": "execute_result",
          "data": {
            "text/plain": [
              "array([2, 2, 0, 0, 0, 2, 2, 1, 1, 0, 2, 0, 1, 2, 1, 0, 1, 0, 2, 1, 1, 0,\n",
              "       0, 2, 0, 0, 2, 0, 1, 0])"
            ]
          },
          "metadata": {
            "tags": []
          },
          "execution_count": 28
        }
      ]
    },
    {
      "cell_type": "markdown",
      "metadata": {
        "id": "cN65gHjG2kpq",
        "colab_type": "text"
      },
      "source": [
        "Accuracy"
      ]
    },
    {
      "cell_type": "code",
      "metadata": {
        "id": "40SILwM6yf74",
        "colab_type": "code",
        "colab": {}
      },
      "source": [
        "iris_dacc=int(accuracy_score(label_test, iris_dpredict)*100)"
      ],
      "execution_count": 0,
      "outputs": []
    },
    {
      "cell_type": "code",
      "metadata": {
        "id": "oyoviw-yypyp",
        "colab_type": "code",
        "colab": {
          "base_uri": "https://localhost:8080/",
          "height": 36
        },
        "outputId": "e6dc0ce9-6f65-4e80-c7c4-25776c6d53f6"
      },
      "source": [
        "iris_dacc"
      ],
      "execution_count": 30,
      "outputs": [
        {
          "output_type": "execute_result",
          "data": {
            "text/plain": [
              "90"
            ]
          },
          "metadata": {
            "tags": []
          },
          "execution_count": 30
        }
      ]
    },
    {
      "cell_type": "markdown",
      "metadata": {
        "id": "Jmcd7NaYyt3A",
        "colab_type": "text"
      },
      "source": [
        "## Cancer dataset"
      ]
    },
    {
      "cell_type": "code",
      "metadata": {
        "id": "gdjZpuy0yr8Y",
        "colab_type": "code",
        "colab": {}
      },
      "source": [
        "cancer_data=load_breast_cancer()"
      ],
      "execution_count": 0,
      "outputs": []
    },
    {
      "cell_type": "code",
      "metadata": {
        "id": "0VEFTPM6zIOZ",
        "colab_type": "code",
        "colab": {
          "base_uri": "https://localhost:8080/",
          "height": 36
        },
        "outputId": "26d069b1-13b7-43d3-82d5-9d4d547f9fd5"
      },
      "source": [
        "dir(cancer_data)"
      ],
      "execution_count": 33,
      "outputs": [
        {
          "output_type": "execute_result",
          "data": {
            "text/plain": [
              "['DESCR', 'data', 'feature_names', 'filename', 'target', 'target_names']"
            ]
          },
          "metadata": {
            "tags": []
          },
          "execution_count": 33
        }
      ]
    },
    {
      "cell_type": "code",
      "metadata": {
        "id": "T1XlSODty_yu",
        "colab_type": "code",
        "colab": {}
      },
      "source": [
        "cancer_features=cancer_data.data"
      ],
      "execution_count": 0,
      "outputs": []
    },
    {
      "cell_type": "code",
      "metadata": {
        "id": "MUGRiianzFA4",
        "colab_type": "code",
        "colab": {}
      },
      "source": [
        "cancer_label=cancer_data.target"
      ],
      "execution_count": 0,
      "outputs": []
    },
    {
      "cell_type": "code",
      "metadata": {
        "id": "8IxfkHQUzOlp",
        "colab_type": "code",
        "colab": {}
      },
      "source": [
        "#seperating data\n",
        "ctrain_data,ctest_data,clabel_train,clabel_test = train_test_split(cancer_features,cancer_label,test_size=0.2)  # 80% training data\n"
      ],
      "execution_count": 0,
      "outputs": []
    },
    {
      "cell_type": "markdown",
      "metadata": {
        "id": "bGrKsgmV2n_R",
        "colab_type": "text"
      },
      "source": [
        "KNN"
      ]
    },
    {
      "cell_type": "code",
      "metadata": {
        "id": "Cq2qizFazgt1",
        "colab_type": "code",
        "colab": {}
      },
      "source": [
        "cancer_kclf=KNeighborsClassifier()"
      ],
      "execution_count": 0,
      "outputs": []
    },
    {
      "cell_type": "code",
      "metadata": {
        "id": "UPx-cnVTztCL",
        "colab_type": "code",
        "colab": {}
      },
      "source": [
        "cancer_ktraining=cancer_kclf.fit(ctrain_data,clabel_train)"
      ],
      "execution_count": 0,
      "outputs": []
    },
    {
      "cell_type": "code",
      "metadata": {
        "id": "KfF6e7PZz4Mz",
        "colab_type": "code",
        "colab": {}
      },
      "source": [
        "cancer_kpredict=cancer_ktraining.predict(ctest_data)"
      ],
      "execution_count": 0,
      "outputs": []
    },
    {
      "cell_type": "code",
      "metadata": {
        "id": "lIGj2d9Mz_s2",
        "colab_type": "code",
        "colab": {
          "base_uri": "https://localhost:8080/",
          "height": 129
        },
        "outputId": "96f996b3-abe6-4eeb-80ca-481b9108d152"
      },
      "source": [
        "cancer_kpredict"
      ],
      "execution_count": 39,
      "outputs": [
        {
          "output_type": "execute_result",
          "data": {
            "text/plain": [
              "array([1, 1, 0, 0, 1, 1, 1, 1, 1, 0, 1, 1, 1, 0, 0, 1, 1, 0, 0, 0, 1, 1,\n",
              "       1, 1, 0, 1, 1, 1, 1, 1, 1, 1, 1, 1, 1, 1, 0, 0, 0, 0, 0, 1, 1, 0,\n",
              "       1, 0, 0, 1, 0, 0, 1, 0, 1, 1, 1, 0, 1, 1, 1, 1, 0, 0, 1, 0, 1, 1,\n",
              "       1, 1, 1, 0, 1, 1, 1, 1, 0, 0, 1, 0, 0, 0, 1, 1, 0, 0, 1, 0, 0, 1,\n",
              "       0, 1, 1, 0, 1, 0, 1, 1, 1, 1, 1, 0, 1, 1, 1, 1, 1, 1, 0, 0, 1, 1,\n",
              "       0, 0, 1, 1])"
            ]
          },
          "metadata": {
            "tags": []
          },
          "execution_count": 39
        }
      ]
    },
    {
      "cell_type": "code",
      "metadata": {
        "id": "t-auaQUa0Bt2",
        "colab_type": "code",
        "colab": {
          "base_uri": "https://localhost:8080/",
          "height": 129
        },
        "outputId": "05449d23-6d87-4c83-d419-8e500420e683"
      },
      "source": [
        "clabel_test"
      ],
      "execution_count": 40,
      "outputs": [
        {
          "output_type": "execute_result",
          "data": {
            "text/plain": [
              "array([1, 1, 1, 0, 1, 1, 1, 1, 1, 0, 1, 1, 1, 0, 0, 1, 1, 0, 0, 0, 1, 1,\n",
              "       1, 1, 0, 1, 1, 1, 1, 1, 1, 0, 1, 1, 1, 1, 0, 0, 0, 0, 0, 1, 1, 0,\n",
              "       1, 0, 0, 1, 0, 0, 1, 0, 1, 1, 1, 0, 1, 1, 1, 1, 0, 0, 0, 0, 1, 1,\n",
              "       1, 0, 1, 0, 1, 1, 1, 1, 0, 0, 1, 0, 0, 0, 1, 1, 0, 0, 1, 0, 0, 1,\n",
              "       0, 1, 1, 0, 1, 0, 1, 1, 1, 1, 1, 0, 1, 1, 1, 1, 0, 1, 0, 1, 1, 1,\n",
              "       0, 0, 1, 1])"
            ]
          },
          "metadata": {
            "tags": []
          },
          "execution_count": 40
        }
      ]
    },
    {
      "cell_type": "markdown",
      "metadata": {
        "id": "SZwY5LWc2rc5",
        "colab_type": "text"
      },
      "source": [
        "Accuracy"
      ]
    },
    {
      "cell_type": "code",
      "metadata": {
        "id": "mfRw-gNR0Dtg",
        "colab_type": "code",
        "colab": {}
      },
      "source": [
        "cancer_kacc=int(accuracy_score(clabel_test,cancer_kpredict)*100)"
      ],
      "execution_count": 0,
      "outputs": []
    },
    {
      "cell_type": "code",
      "metadata": {
        "id": "Mahewsbu0Mq1",
        "colab_type": "code",
        "colab": {
          "base_uri": "https://localhost:8080/",
          "height": 36
        },
        "outputId": "93ef06ab-4c0d-4dfd-cb0f-15830685fd82"
      },
      "source": [
        "cancer_kacc"
      ],
      "execution_count": 42,
      "outputs": [
        {
          "output_type": "execute_result",
          "data": {
            "text/plain": [
              "94"
            ]
          },
          "metadata": {
            "tags": []
          },
          "execution_count": 42
        }
      ]
    },
    {
      "cell_type": "markdown",
      "metadata": {
        "id": "DMXPdzIg2tgv",
        "colab_type": "text"
      },
      "source": [
        "Decision Tree Classifier"
      ]
    },
    {
      "cell_type": "code",
      "metadata": {
        "id": "ypDdehNK0Oz0",
        "colab_type": "code",
        "colab": {}
      },
      "source": [
        "cancer_dclf=DecisionTreeClassifier()"
      ],
      "execution_count": 0,
      "outputs": []
    },
    {
      "cell_type": "code",
      "metadata": {
        "id": "Nf0MOjh10Xb7",
        "colab_type": "code",
        "colab": {}
      },
      "source": [
        "#training\n",
        "cancer_dtraining=cancer_dclf.fit(ctrain_data,clabel_train)"
      ],
      "execution_count": 0,
      "outputs": []
    },
    {
      "cell_type": "code",
      "metadata": {
        "id": "5c9ydVJP0zaw",
        "colab_type": "code",
        "colab": {}
      },
      "source": [
        "#prediction\n",
        "cancer_dpredict=cancer_dtraining.predict(ctest_data)"
      ],
      "execution_count": 0,
      "outputs": []
    },
    {
      "cell_type": "code",
      "metadata": {
        "id": "A9G7sRMj09X7",
        "colab_type": "code",
        "colab": {
          "base_uri": "https://localhost:8080/",
          "height": 129
        },
        "outputId": "6b5355e3-b1e7-4f03-9d1f-5e917c3fa2f4"
      },
      "source": [
        "cancer_dpredict"
      ],
      "execution_count": 46,
      "outputs": [
        {
          "output_type": "execute_result",
          "data": {
            "text/plain": [
              "array([1, 1, 0, 0, 1, 1, 1, 1, 1, 0, 1, 1, 1, 0, 0, 1, 1, 0, 0, 0, 0, 1,\n",
              "       1, 1, 0, 1, 1, 1, 1, 1, 0, 0, 1, 1, 1, 1, 0, 0, 1, 0, 0, 1, 1, 0,\n",
              "       1, 0, 0, 1, 0, 0, 1, 0, 1, 1, 1, 0, 1, 1, 1, 1, 0, 0, 0, 0, 1, 1,\n",
              "       1, 0, 1, 0, 1, 1, 1, 1, 0, 0, 1, 0, 0, 0, 1, 1, 0, 0, 1, 0, 0, 1,\n",
              "       0, 1, 1, 0, 0, 0, 0, 1, 1, 1, 1, 0, 1, 1, 1, 1, 0, 0, 0, 1, 1, 1,\n",
              "       0, 0, 1, 1])"
            ]
          },
          "metadata": {
            "tags": []
          },
          "execution_count": 46
        }
      ]
    },
    {
      "cell_type": "code",
      "metadata": {
        "id": "3SBycfaM1ABG",
        "colab_type": "code",
        "colab": {
          "base_uri": "https://localhost:8080/",
          "height": 129
        },
        "outputId": "f15949b9-199b-4da1-e2b0-a9c8d70dcb17"
      },
      "source": [
        "clabel_test"
      ],
      "execution_count": 47,
      "outputs": [
        {
          "output_type": "execute_result",
          "data": {
            "text/plain": [
              "array([1, 1, 1, 0, 1, 1, 1, 1, 1, 0, 1, 1, 1, 0, 0, 1, 1, 0, 0, 0, 1, 1,\n",
              "       1, 1, 0, 1, 1, 1, 1, 1, 1, 0, 1, 1, 1, 1, 0, 0, 0, 0, 0, 1, 1, 0,\n",
              "       1, 0, 0, 1, 0, 0, 1, 0, 1, 1, 1, 0, 1, 1, 1, 1, 0, 0, 0, 0, 1, 1,\n",
              "       1, 0, 1, 0, 1, 1, 1, 1, 0, 0, 1, 0, 0, 0, 1, 1, 0, 0, 1, 0, 0, 1,\n",
              "       0, 1, 1, 0, 1, 0, 1, 1, 1, 1, 1, 0, 1, 1, 1, 1, 0, 1, 0, 1, 1, 1,\n",
              "       0, 0, 1, 1])"
            ]
          },
          "metadata": {
            "tags": []
          },
          "execution_count": 47
        }
      ]
    },
    {
      "cell_type": "markdown",
      "metadata": {
        "id": "4QSFBXPs2xwj",
        "colab_type": "text"
      },
      "source": [
        "Accuracy"
      ]
    },
    {
      "cell_type": "code",
      "metadata": {
        "id": "l5ms9hjO1B6t",
        "colab_type": "code",
        "colab": {
          "base_uri": "https://localhost:8080/",
          "height": 36
        },
        "outputId": "eaebefc8-7b6d-414f-bd85-15100d9a2456"
      },
      "source": [
        "#checking accuracy\n",
        "cancer_dacc=int(accuracy_score(clabel_test,cancer_dpredict)*100)\n",
        "cancer_dacc"
      ],
      "execution_count": 48,
      "outputs": [
        {
          "output_type": "execute_result",
          "data": {
            "text/plain": [
              "93"
            ]
          },
          "metadata": {
            "tags": []
          },
          "execution_count": 48
        }
      ]
    },
    {
      "cell_type": "markdown",
      "metadata": {
        "id": "DZOP8GDI1UOt",
        "colab_type": "text"
      },
      "source": [
        "## Plotting graph"
      ]
    },
    {
      "cell_type": "code",
      "metadata": {
        "id": "WN5tr8og1PJs",
        "colab_type": "code",
        "colab": {}
      },
      "source": [
        "import matplotlib.pyplot as plt\n",
        "import numpy as np"
      ],
      "execution_count": 0,
      "outputs": []
    },
    {
      "cell_type": "code",
      "metadata": {
        "id": "0fPK4Mdn1fQ_",
        "colab_type": "code",
        "colab": {}
      },
      "source": [
        "knn=[iris_kaccr,cancer_kacc]    # accuracy scores of knn classifier at values of k=3,5,7\n",
        "dtc=[iris_dacc,cancer_dacc]          # accuracy scores of decision tree classfier  \n",
        "x=np.arange(len(knn))"
      ],
      "execution_count": 0,
      "outputs": []
    },
    {
      "cell_type": "code",
      "metadata": {
        "id": "D0jEaC1x110h",
        "colab_type": "code",
        "colab": {
          "base_uri": "https://localhost:8080/",
          "height": 302
        },
        "outputId": "7b213e0d-276b-44ca-bb95-6f13b5374fb2"
      },
      "source": [
        "bar_width=0.15\n",
        "\n",
        "rects1=plt.bar(x, knn,width=bar_width, zorder=2 , label='KNN')\n",
        "rects2=plt.bar(x+bar_width, dtc, width=bar_width, zorder=2, label='Decision Tree Classifier' )\n",
        "\n",
        "plt.grid(axis='y')\n",
        "def autolabel(rects):\n",
        "    for rect in rects:\n",
        "        h = rect.get_height()\n",
        "        plt.text(rect.get_x()+rect.get_width()/2., 1.023*h, '%d'%int(h),ha='center', va='bottom')\n",
        "\n",
        "autolabel(rects1)\n",
        "autolabel(rects2)\n",
        "\n",
        "plt.xlabel('Datasets')\n",
        "plt.ylabel('Accuracy')\n",
        "plt.ylim(0,140)\n",
        "plt.xticks(x+bar_width*0.45, ['IRIS', 'Breast Cancer'])\n",
        "\n",
        "plt.legend()"
      ],
      "execution_count": 56,
      "outputs": [
        {
          "output_type": "execute_result",
          "data": {
            "text/plain": [
              "<matplotlib.legend.Legend at 0x7f7cf5afb860>"
            ]
          },
          "metadata": {
            "tags": []
          },
          "execution_count": 56
        },
        {
          "output_type": "display_data",
          "data": {
            "image/png": "[encoded data removed]",
            "text/plain": [
              "<Figure size 432x288 with 1 Axes>"
            ]
          },
          "metadata": {
            "tags": []
          }
        }
      ]
    },
    {
      "cell_type": "code",
      "metadata": {
        "id": "ro4-NLkP2QVz",
        "colab_type": "code",
        "colab": {}
      },
      "source": [
        "knn=[iris_kaccr,iris_dacc]    # accuracy scores of knn classifier at values of k=3,5,7\n",
        "dtc=[cancer_kacc,cancer_dacc]          # accuracy scores of decision tree classfier  \n",
        "x=np.arange(len(knn))"
      ],
      "execution_count": 0,
      "outputs": []
    },
    {
      "cell_type": "code",
      "metadata": {
        "id": "Ityz34mD3w__",
        "colab_type": "code",
        "colab": {
          "base_uri": "https://localhost:8080/",
          "height": 302
        },
        "outputId": "fcd3baad-b796-4ac1-bf0a-0e60bf6f7c85"
      },
      "source": [
        "bar_width=0.15\n",
        "\n",
        "rects1=plt.bar(x, knn,width=bar_width, zorder=2 , label='Iris')\n",
        "rects2=plt.bar(x+bar_width, dtc, width=bar_width, zorder=2, label='Breast Cancer' )\n",
        "\n",
        "plt.grid(axis='y')\n",
        "def autolabel(rects):\n",
        "    for rect in rects:\n",
        "        h = rect.get_height()\n",
        "        plt.text(rect.get_x()+rect.get_width()/2., 1.023*h, '%d'%int(h),ha='center', va='bottom')\n",
        "\n",
        "autolabel(rects1)\n",
        "autolabel(rects2)\n",
        "\n",
        "plt.xlabel('Datasets')\n",
        "plt.ylabel('Accuracy')\n",
        "plt.ylim(0,140)\n",
        "plt.xticks(x+bar_width*0.45, ['KNN', 'Decision Tree Classifier'])\n",
        "\n",
        "plt.legend()"
      ],
      "execution_count": 58,
      "outputs": [
        {
          "output_type": "execute_result",
          "data": {
            "text/plain": [
              "<matplotlib.legend.Legend at 0x7f7cf5afba20>"
            ]
          },
          "metadata": {
            "tags": []
          },
          "execution_count": 58
        },
        {
          "output_type": "display_data",
          "data": {
            "image/png": "[encoded data removed]",
            "text/plain": [
              "<Figure size 432x288 with 1 Axes>"
            ]
          },
          "metadata": {
            "tags": []
          }
        }
      ]
    },
    {
      "cell_type": "code",
      "metadata": {
        "id": "uftpFC-I3-Vg",
        "colab_type": "code",
        "colab": {}
      },
      "source": [
        ""
      ],
      "execution_count": 0,
      "outputs": []
    }
  ]
}
