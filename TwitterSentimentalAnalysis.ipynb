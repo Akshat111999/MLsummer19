{
  "nbformat": 4,
  "nbformat_minor": 0,
  "metadata": {
    "colab": {
      "name": "TwitterSentimentalAnalysis.ipynb",
      "version": "0.3.2",
      "provenance": [],
      "collapsed_sections": [],
      "include_colab_link": true
    },
    "kernelspec": {
      "name": "python3",
      "display_name": "Python 3"
    }
  },
  "cells": [
    {
      "cell_type": "markdown",
      "metadata": {
        "id": "view-in-github",
        "colab_type": "text"
      },
      "source": [
        "<a href=\"https://colab.research.google.com/github/Akshat111999/MLsummer19/blob/NLP/TwitterSentimentalAnalysis.ipynb\" target=\"_parent\"><img src=\"https://colab.research.google.com/assets/colab-badge.svg\" alt=\"Open In Colab\"/></a>"
      ]
    },
    {
      "cell_type": "code",
      "metadata": {
        "id": "b9ylFHfbbNwP",
        "colab_type": "code",
        "colab": {}
      },
      "source": [
        "#pip3 install tweepy --- to install tweepy on your system\n",
        "import tweepy\n",
        "import matplotlib.pyplot as plt\n",
        "import time\n",
        "from textblob import TextBlob"
      ],
      "execution_count": 0,
      "outputs": []
    },
    {
      "cell_type": "code",
      "metadata": {
        "id": "fzO7C15OdNJe",
        "colab_type": "code",
        "colab": {}
      },
      "source": [
        "#all 4 wuthentication keys to access twitter API\n",
        "#to connect to auth handler or jump server / reverse proxy server\n",
        "consumerKey='enter your consumer key'\n",
        "consumerSecretKey='enter your consumer Secret Key '\n",
        "#from proxy server we need to connect to web server of twitter \n",
        "accessToken='enter your access Token'\n",
        "accessSecretToken='enter your access Secret Token '"
      ],
      "execution_count": 0,
      "outputs": []
    },
    {
      "cell_type": "code",
      "metadata": {
        "id": "cU1hxNuIdmqy",
        "colab_type": "code",
        "colab": {}
      },
      "source": [
        "#tweepy explore\n",
        "#connecting to jump server of twitter\n",
        "auth=tweepy.OAuthHandler(consumerKey, consumerSecretKey)"
      ],
      "execution_count": 0,
      "outputs": []
    },
    {
      "cell_type": "code",
      "metadata": {
        "id": "BvClLdHUf_kl",
        "colab_type": "code",
        "colab": {}
      },
      "source": [
        "#now we connect from jump server to web server of twitter\n",
        "auth.set_access_token(accessToken, accessSecretToken)"
      ],
      "execution_count": 0,
      "outputs": []
    },
    {
      "cell_type": "code",
      "metadata": {
        "id": "n5gCvyG_gKZD",
        "colab_type": "code",
        "colab": {}
      },
      "source": [
        "#now we connect to API storage server\n",
        "api_connect=tweepy.API(auth)"
      ],
      "execution_count": 0,
      "outputs": []
    },
    {
      "cell_type": "code",
      "metadata": {
        "id": "SVxsF8x7P-Gr",
        "colab_type": "code",
        "colab": {}
      },
      "source": [
        "#now yoou can search any topic on twitter\n",
        "tweet_data=api_connect.search('Modi', count=30)"
      ],
      "execution_count": 0,
      "outputs": []
    },
    {
      "cell_type": "code",
      "metadata": {
        "id": "fyLqqY9zQcSJ",
        "colab_type": "code",
        "outputId": "2447d6e4-c2f2-4b15-e99a-4ad02ecf6787",
        "colab": {
          "base_uri": "https://localhost:8080/",
          "height": 1000
        }
      },
      "source": [
        "pos=0\n",
        "neg=0\n",
        "neu=0\n",
        "#printing line by line\n",
        "for tweet in tweet_data:\n",
        "  #print(tweet)\n",
        "  analysis=TextBlob(tweet.text)  #here it will apply nlp\n",
        "  print(analysis.sentiment)\n",
        "  #now checking polarity only\n",
        "  if analysis.sentiment.polarity > 0:\n",
        "    print('positive')\n",
        "    pos=pos+1\n",
        "  elif analysis.sentiment.polarity == 0:\n",
        "    print('neutral')\n",
        "    neu+=1\n",
        "  else :\n",
        "    print('negative')\n",
        "    neg+=1\n",
        "    \n",
        "  #time.sleep(1)\n",
        "  \n",
        "#plotting graphs\n",
        "plt.xlabel('tags')\n",
        "plt.ylabel('polarity')\n",
        "#plt.bar(['posit', 'neg','neu'], [pos,neg,neu])\n",
        "plt.pie([pos,neg,neu], labels=['posi', 'neg', 'neu'], autopct='%1.1f%%')"
      ],
      "execution_count": 0,
      "outputs": [
        {
          "output_type": "stream",
          "text": [
            "Sentiment(polarity=0.0, subjectivity=0.0)\n",
            "neutral\n",
            "Sentiment(polarity=0.0, subjectivity=0.0)\n",
            "neutral\n",
            "Sentiment(polarity=-0.07500000000000001, subjectivity=0.05)\n",
            "negative\n",
            "Sentiment(polarity=0.0, subjectivity=0.0)\n",
            "neutral\n",
            "Sentiment(polarity=-0.5, subjectivity=0.75)\n",
            "negative\n",
            "Sentiment(polarity=0.0, subjectivity=0.0)\n",
            "neutral\n",
            "Sentiment(polarity=0.5, subjectivity=0.7)\n",
            "positive\n",
            "Sentiment(polarity=0.0, subjectivity=0.0)\n",
            "neutral\n",
            "Sentiment(polarity=0.05000000000000002, subjectivity=0.5)\n",
            "positive\n",
            "Sentiment(polarity=-0.2, subjectivity=0.45)\n",
            "negative\n",
            "Sentiment(polarity=0.0, subjectivity=0.0)\n",
            "neutral\n",
            "Sentiment(polarity=0.0, subjectivity=0.0)\n",
            "neutral\n",
            "Sentiment(polarity=0.0, subjectivity=0.0)\n",
            "neutral\n",
            "Sentiment(polarity=0.0, subjectivity=0.0)\n",
            "neutral\n",
            "Sentiment(polarity=0.0, subjectivity=0.0)\n",
            "neutral\n",
            "Sentiment(polarity=0.0, subjectivity=0.0)\n",
            "neutral\n",
            "Sentiment(polarity=-0.8, subjectivity=1.0)\n",
            "negative\n",
            "Sentiment(polarity=-0.037500000000000006, subjectivity=0.275)\n",
            "negative\n",
            "Sentiment(polarity=-0.037500000000000006, subjectivity=0.275)\n",
            "negative\n",
            "Sentiment(polarity=0.0, subjectivity=0.0)\n",
            "neutral\n"
          ],
          "name": "stdout"
        },
        {
          "output_type": "execute_result",
          "data": {
            "text/plain": [
              "([<matplotlib.patches.Wedge at 0x7f33bd539b00>,\n",
              "  <matplotlib.patches.Wedge at 0x7f33bd539710>,\n",
              "  <matplotlib.patches.Wedge at 0x7f33bd52a048>],\n",
              " [Text(1.0461621663333946, 0.3399186987098808, 'posi'),\n",
              "  Text(-5.149471629032507e-08, 1.0999999999999988, 'neg'),\n",
              "  Text(-0.33991852729952715, -1.04616222202798, 'neu')],\n",
              " [Text(0.5706339089091244, 0.1854101992962986, '10.0%'),\n",
              "  Text(-2.8088027067450036e-08, 0.5999999999999993, '30.0%'),\n",
              "  Text(-0.18541010579974207, -0.5706339392879891, '60.0%')])"
            ]
          },
          "metadata": {
            "tags": []
          },
          "execution_count": 41
        },
        {
          "output_type": "display_data",
          "data": {
            "image/png": "[encoded data removed]",
            "text/plain": [
              "<Figure size 432x288 with 1 Axes>"
            ]
          },
          "metadata": {
            "tags": []
          }
        }
      ]
    },
    {
      "cell_type": "code",
      "metadata": {
        "id": "bfYGfJYLQyrj",
        "colab_type": "code",
        "colab": {}
      },
      "source": [
        ""
      ],
      "execution_count": 0,
      "outputs": []
    },
    {
      "cell_type": "code",
      "metadata": {
        "id": "kSoDnwQxkaaT",
        "colab_type": "code",
        "colab": {}
      },
      "source": [
        ""
      ],
      "execution_count": 0,
      "outputs": []
    }
  ]
}