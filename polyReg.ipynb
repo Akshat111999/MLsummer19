{
  "nbformat": 4,
  "nbformat_minor": 0,
  "metadata": {
    "colab": {
      "name": "polyReg.ipynb",
      "version": "0.3.2",
      "provenance": [],
      "collapsed_sections": [],
      "include_colab_link": true
    },
    "kernelspec": {
      "name": "python3",
      "display_name": "Python 3"
    }
  },
  "cells": [
    {
      "cell_type": "markdown",
      "metadata": {
        "id": "view-in-github",
        "colab_type": "text"
      },
      "source": [
        "<a href=\"https://colab.research.google.com/github/Akshat111999/MLsummer19/blob/SupervisedML/polyReg.ipynb\" target=\"_parent\"><img src=\"https://colab.research.google.com/assets/colab-badge.svg\" alt=\"Open In Colab\"/></a>"
      ]
    },
    {
      "cell_type": "code",
      "metadata": {
        "id": "7J5Q5_16CM2a",
        "colab_type": "code",
        "colab": {}
      },
      "source": [
        "import matplotlib.pyplot as plt\n",
        "import pandas as pd"
      ],
      "execution_count": 0,
      "outputs": []
    },
    {
      "cell_type": "code",
      "metadata": {
        "id": "PuyvhP82Dz66",
        "colab_type": "code",
        "colab": {}
      },
      "source": [
        "# data loading\n",
        "df = pd.read_csv('salary.csv')"
      ],
      "execution_count": 0,
      "outputs": []
    },
    {
      "cell_type": "code",
      "metadata": {
        "id": "mp4LIzwfD79L",
        "colab_type": "code",
        "colab": {}
      },
      "source": [
        "# exp\n",
        "exp=df.iloc[:,0:1].values"
      ],
      "execution_count": 0,
      "outputs": []
    },
    {
      "cell_type": "code",
      "metadata": {
        "id": "FiK6Xo56EGu0",
        "colab_type": "code",
        "colab": {}
      },
      "source": [
        "#sal\n",
        "sal = df.iloc[:,1:].values"
      ],
      "execution_count": 0,
      "outputs": []
    },
    {
      "cell_type": "code",
      "metadata": {
        "id": "kIOLVFjzEMsk",
        "colab_type": "code",
        "colab": {}
      },
      "source": [
        "# calling linear model just for comparing\n",
        "from sklearn.linear_model import LinearRegression\n",
        "\n",
        "lreg=LinearRegression()"
      ],
      "execution_count": 0,
      "outputs": []
    },
    {
      "cell_type": "code",
      "metadata": {
        "id": "tOu7GznqEW1r",
        "colab_type": "code",
        "colab": {}
      },
      "source": [
        "# to transform data we can call polytransformer method\n",
        "from sklearn.preprocessing import  PolynomialFeatures"
      ],
      "execution_count": 0,
      "outputs": []
    },
    {
      "cell_type": "code",
      "metadata": {
        "id": "Oo5VXsj9EySb",
        "colab_type": "code",
        "colab": {}
      },
      "source": [
        "# transform expe\n",
        "#poly=PolynomialFeatures(degree=100)"
      ],
      "execution_count": 0,
      "outputs": []
    },
    {
      "cell_type": "code",
      "metadata": {
        "id": "bljuKz5oFaaZ",
        "colab_type": "code",
        "colab": {}
      },
      "source": [
        "newexp=poly.fit_transform(exp)"
      ],
      "execution_count": 0,
      "outputs": []
    },
    {
      "cell_type": "code",
      "metadata": {
        "id": "TgfdaooAFdMf",
        "colab_type": "code",
        "colab": {}
      },
      "source": [
        "#apply linear regression\n",
        "ltrain=lreg.fit(exp,sal)"
      ],
      "execution_count": 0,
      "outputs": []
    },
    {
      "cell_type": "code",
      "metadata": {
        "id": "QMJiw2shF8Ny",
        "colab_type": "code",
        "outputId": "d518c587-4527-492c-c0e1-b6fe6b730cec",
        "colab": {
          "base_uri": "https://localhost:8080/",
          "height": 301
        }
      },
      "source": [
        "# now creating linear model again\n",
        "#visualizing the data\n",
        "plt.xlabel('experience')\n",
        "plt.ylabel('salary')\n",
        "\n",
        "plt.scatter(exp,sal,label='actual salary')\n",
        "plt.plot(exp,ltrain.predict(exp), label='linear model predicted salary')\n",
        "             #predicted salary\n",
        "plt.legend()"
      ],
      "execution_count": 0,
      "outputs": [
        {
          "output_type": "execute_result",
          "data": {
            "text/plain": [
              "<matplotlib.legend.Legend at 0x7f2a93888d68>"
            ]
          },
          "metadata": {
            "tags": []
          },
          "execution_count": 63
        },
        {
          "output_type": "display_data",
          "data": {
            "image/png": "[encoded data removed]",
            "text/plain": [
              "<Figure size 432x288 with 1 Axes>"
            ]
          },
          "metadata": {
            "tags": []
          }
        }
      ]
    },
    {
      "cell_type": "code",
      "metadata": {
        "id": "MHh7BHieGMGO",
        "colab_type": "code",
        "outputId": "a309c638-2f40-4484-fd5a-7f9f217513bd",
        "colab": {
          "base_uri": "https://localhost:8080/",
          "height": 172
        }
      },
      "source": [
        "# new exp data apply in model\n",
        "reg2=LinearRegression(degree=6)"
      ],
      "execution_count": 0,
      "outputs": [
        {
          "output_type": "error",
          "ename": "TypeError",
          "evalue": "ignored",
          "traceback": [
            "\u001b[0;31m---------------------------------------------------------------------------\u001b[0m",
            "\u001b[0;31mTypeError\u001b[0m                                 Traceback (most recent call last)",
            "\u001b[0;32m<ipython-input-70-32a56c77ec05>\u001b[0m in \u001b[0;36m<module>\u001b[0;34m()\u001b[0m\n\u001b[0;32m----> 1\u001b[0;31m \u001b[0mreg2\u001b[0m\u001b[0;34m=\u001b[0m\u001b[0mLinearRegression\u001b[0m\u001b[0;34m(\u001b[0m\u001b[0mdegree\u001b[0m\u001b[0;34m=\u001b[0m\u001b[0;36m6\u001b[0m\u001b[0;34m)\u001b[0m\u001b[0;34m\u001b[0m\u001b[0;34m\u001b[0m\u001b[0m\n\u001b[0m",
            "\u001b[0;31mTypeError\u001b[0m: __init__() got an unexpected keyword argument 'degree'"
          ]
        }
      ]
    },
    {
      "cell_type": "code",
      "metadata": {
        "id": "Cc5aE_93G-bi",
        "colab_type": "code",
        "colab": {}
      },
      "source": [
        "trained2=reg2.fit(newexp,sal)"
      ],
      "execution_count": 0,
      "outputs": []
    },
    {
      "cell_type": "code",
      "metadata": {
        "id": "Yv-YExYNHK9V",
        "colab_type": "code",
        "outputId": "e8fae608-5386-4c8b-82c0-8c6d5fc2fda1",
        "colab": {
          "base_uri": "https://localhost:8080/",
          "height": 301
        }
      },
      "source": [
        "# now creating linear model again\n",
        "\n",
        "#visualizing the data\n",
        "plt.xlabel('experience')\n",
        "plt.ylabel('salary')\n",
        "\n",
        "plt.scatter(exp,sal,label='actual salary')\n",
        "plt.plot(exp2,trained2.predict(newexp), label='new model')\n",
        "             #predicted salary\n",
        "plt.legend()"
      ],
      "execution_count": 0,
      "outputs": [
        {
          "output_type": "execute_result",
          "data": {
            "text/plain": [
              "<matplotlib.legend.Legend at 0x7f2a9330ed68>"
            ]
          },
          "metadata": {
            "tags": []
          },
          "execution_count": 72
        },
        {
          "output_type": "display_data",
          "data": {
            "image/png": "[encoded data removed]",
            "text/plain": [
              "<Figure size 432x288 with 1 Axes>"
            ]
          },
          "metadata": {
            "tags": []
          }
        }
      ]
    },
    {
      "cell_type": "code",
      "metadata": {
        "id": "qobaCdVbHXGA",
        "colab_type": "code",
        "colab": {}
      },
      "source": [
        ""
      ],
      "execution_count": 0,
      "outputs": []
    }
  ]
}