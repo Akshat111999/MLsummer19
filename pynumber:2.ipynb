import numpy as np
array=np.random.randint(100,200,size=(8,2) )

