{
  "nbformat": 4,
  "nbformat_minor": 0,
  "metadata": {
    "colab": {
      "name": "tokenisation.ipynb",
      "version": "0.3.2",
      "provenance": [],
      "include_colab_link": true
    },
    "kernelspec": {
      "name": "python3",
      "display_name": "Python 3"
    }
  },
  "cells": [
    {
      "cell_type": "markdown",
      "metadata": {
        "id": "view-in-github",
        "colab_type": "text"
      },
      "source": [
        "<a href=\"https://colab.research.google.com/github/Akshat111999/MLsummer19/blob/NLP/tokenisation.ipynb\" target=\"_parent\"><img src=\"https://colab.research.google.com/assets/colab-badge.svg\" alt=\"Open In Colab\"/></a>"
      ]
    },
    {
      "cell_type": "code",
      "metadata": {
        "id": "hYk7Hac4X3p3",
        "colab_type": "code",
        "outputId": "87f3bf26-8176-42fb-9cd4-156b0f9f353c",
        "colab": {
          "base_uri": "https://localhost:8080/",
          "height": 72
        }
      },
      "source": [
        "import nltk\n",
        "nltk.download('punkt')"
      ],
      "execution_count": 0,
      "outputs": [
        {
          "output_type": "stream",
          "text": [
            "[nltk_data] Downloading package punkt to /root/nltk_data...\n",
            "[nltk_data]   Unzipping tokenizers/punkt.zip.\n"
          ],
          "name": "stdout"
        },
        {
          "output_type": "execute_result",
          "data": {
            "text/plain": [
              "True"
            ]
          },
          "metadata": {
            "tags": []
          },
          "execution_count": 6
        }
      ]
    },
    {
      "cell_type": "code",
      "metadata": {
        "id": "EwBaYLkQQNW2",
        "colab_type": "code",
        "colab": {}
      },
      "source": [
        "msg='''\n",
        "hello world this is python language here. Aryan sharma is siiting right next to me wow!\n",
        "Ok google what's the weather now.\n",
        "hey akshay what are you doing?\n",
        "remember me?.\n",
        "'''"
      ],
      "execution_count": 0,
      "outputs": []
    },
    {
      "cell_type": "code",
      "metadata": {
        "id": "CduggD7kXUjj",
        "colab_type": "code",
        "colab": {}
      },
      "source": [
        "#import tokenize\n",
        "from nltk.tokenize import sent_tokenize\n",
        "from nltk.tokenize import word_tokenize"
      ],
      "execution_count": 0,
      "outputs": []
    },
    {
      "cell_type": "code",
      "metadata": {
        "id": "nHgHldsqXjYi",
        "colab_type": "code",
        "colab": {}
      },
      "source": [
        "# sentence tokenizer\n",
        "sent=sent_tokenize(msg)"
      ],
      "execution_count": 0,
      "outputs": []
    },
    {
      "cell_type": "code",
      "metadata": {
        "id": "DM1HgqimXwZT",
        "colab_type": "code",
        "outputId": "57619d74-b3da-4c3b-ae06-a92832cdb6fb",
        "colab": {
          "base_uri": "https://localhost:8080/",
          "height": 109
        }
      },
      "source": [
        "sent"
      ],
      "execution_count": 0,
      "outputs": [
        {
          "output_type": "execute_result",
          "data": {
            "text/plain": [
              "['\\nhello world this is python language here.',\n",
              " 'Aryan sharma is siiting right next to me wow!',\n",
              " \"Ok google what's the weather now.\",\n",
              " 'hey akshay what are you doing?',\n",
              " 'remember me?.']"
            ]
          },
          "metadata": {
            "tags": []
          },
          "execution_count": 8
        }
      ]
    },
    {
      "cell_type": "code",
      "metadata": {
        "id": "p5qIGMvIYELi",
        "colab_type": "code",
        "outputId": "132b015a-96c6-4065-f3f1-08a8800da02e",
        "colab": {
          "base_uri": "https://localhost:8080/",
          "height": 35
        }
      },
      "source": [
        "#no of lines\n",
        "len(sent)"
      ],
      "execution_count": 0,
      "outputs": [
        {
          "output_type": "execute_result",
          "data": {
            "text/plain": [
              "5"
            ]
          },
          "metadata": {
            "tags": []
          },
          "execution_count": 9
        }
      ]
    },
    {
      "cell_type": "code",
      "metadata": {
        "id": "1uJ9AQlUYGsx",
        "colab_type": "code",
        "colab": {}
      },
      "source": [
        "# tokenizing by word\n",
        "words=word_tokenize(msg)"
      ],
      "execution_count": 0,
      "outputs": []
    },
    {
      "cell_type": "code",
      "metadata": {
        "id": "usVvmYe4YTVe",
        "colab_type": "code",
        "outputId": "b3c9a8d2-d2e9-4ccf-8eb8-798f177b0d6c",
        "colab": {
          "base_uri": "https://localhost:8080/",
          "height": 35
        }
      },
      "source": [
        "len(words)"
      ],
      "execution_count": 0,
      "outputs": [
        {
          "output_type": "execute_result",
          "data": {
            "text/plain": [
              "37"
            ]
          },
          "metadata": {
            "tags": []
          },
          "execution_count": 12
        }
      ]
    },
    {
      "cell_type": "code",
      "metadata": {
        "id": "oylyYzr5YUyF",
        "colab_type": "code",
        "colab": {}
      },
      "source": [
        "#stopword removal from actual words\n",
        "#from nltk.corpus import stopwords\n",
        "import matplotlib.pyplot as plt\n",
        "new_word=[i for i in words if i.lower() not in stopwords.words('english')]"
      ],
      "execution_count": 0,
      "outputs": []
    },
    {
      "cell_type": "code",
      "metadata": {
        "id": "Rj2bNdl3Y910",
        "colab_type": "code",
        "outputId": "c2fe5cfc-11b1-4157-dac8-c54511c58327",
        "colab": {
          "base_uri": "https://localhost:8080/",
          "height": 35
        }
      },
      "source": [
        "len(new_word)"
      ],
      "execution_count": 0,
      "outputs": [
        {
          "output_type": "execute_result",
          "data": {
            "text/plain": [
              "23"
            ]
          },
          "metadata": {
            "tags": []
          },
          "execution_count": 17
        }
      ]
    },
    {
      "cell_type": "code",
      "metadata": {
        "id": "ucMykuj3ZEGc",
        "colab_type": "code",
        "outputId": "8beed45f-3ea4-43fd-e9c8-47ef652fdfb8",
        "colab": {
          "base_uri": "https://localhost:8080/",
          "height": 325
        }
      },
      "source": [
        "nlp=nltk.FreqDist(words)\n",
        "nlp.plot()  # plot of actual words"
      ],
      "execution_count": 0,
      "outputs": [
        {
          "output_type": "display_data",
          "data": {
            "image/png": "[encoded data removed]",
            "text/plain": [
              "<Figure size 432x288 with 1 Axes>"
            ]
          },
          "metadata": {
            "tags": []
          }
        }
      ]
    },
    {
      "cell_type": "code",
      "metadata": {
        "id": "FJPk-7JdZWRq",
        "colab_type": "code",
        "outputId": "bb1e0edd-1004-4c4c-b6d6-c9cb7a9f3265",
        "colab": {
          "base_uri": "https://localhost:8080/",
          "height": 325
        }
      },
      "source": [
        "nlp=nltk.FreqDist(new_word)\n",
        "nlp.plot()   # plot of words after removing stopwords"
      ],
      "execution_count": 0,
      "outputs": [
        {
          "output_type": "display_data",
          "data": {
            "image/png": "[encoded data removed]",
            "text/plain": [
              "<Figure size 432x288 with 1 Axes>"
            ]
          },
          "metadata": {
            "tags": []
          }
        }
      ]
    },
    {
      "cell_type": "code",
      "metadata": {
        "id": "i1tSiWQgZer2",
        "colab_type": "code",
        "colab": {}
      },
      "source": [
        ""
      ],
      "execution_count": 0,
      "outputs": []
    }
  ]
}